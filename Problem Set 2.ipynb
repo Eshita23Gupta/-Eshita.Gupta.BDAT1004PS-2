{
 "cells": [
  {
   "cell_type": "markdown",
   "id": "17457b83",
   "metadata": {},
   "source": [
    "# Problem set 2 solutions"
   ]
  },
  {
   "cell_type": "markdown",
   "id": "45702d8e",
   "metadata": {},
   "source": [
    "###### "
   ]
  },
  {
   "cell_type": "markdown",
   "id": "27f53f46",
   "metadata": {},
   "source": [
    "##### Question 1"
   ]
  },
  {
   "cell_type": "markdown",
   "id": "9ad92d7f",
   "metadata": {},
   "source": [
    "###### "
   ]
  },
  {
   "cell_type": "markdown",
   "id": "caa723ae",
   "metadata": {},
   "source": [
    "##### What value is displayed when the last expression (a) is evaluated? Explain your answer by indicating what happens in every executed statement."
   ]
  },
  {
   "cell_type": "code",
   "execution_count": 1,
   "id": "9fefaac6",
   "metadata": {},
   "outputs": [
    {
     "data": {
      "text/plain": [
       "6"
      ]
     },
     "execution_count": 1,
     "metadata": {},
     "output_type": "execute_result"
    }
   ],
   "source": [
    "a = 0\n",
    "def b():\n",
    " global a\n",
    " a = c(a)\n",
    "def c(a):\n",
    " return a + 2\n",
    "\n",
    "b()\n",
    "b()\n",
    "b()\n",
    "a"
   ]
  },
  {
   "cell_type": "markdown",
   "id": "75d60475",
   "metadata": {},
   "source": [
    "a is a global variable,\n",
    "And here, b() is called thrice \n",
    "which makes the value of a = 6"
   ]
  },
  {
   "cell_type": "markdown",
   "id": "28ac3749",
   "metadata": {},
   "source": [
    "###### "
   ]
  },
  {
   "cell_type": "markdown",
   "id": "6a0fef37",
   "metadata": {},
   "source": [
    "##### Question 2"
   ]
  },
  {
   "cell_type": "markdown",
   "id": "7a7409ca",
   "metadata": {},
   "source": [
    "###### "
   ]
  },
  {
   "cell_type": "markdown",
   "id": "1be58b89",
   "metadata": {},
   "source": [
    "#####  If the file cannot be found by the interpreter or if it cannot be read as a text file, an exception will be raised. Modify function fileLength() so that a friendly message is printed instead."
   ]
  },
  {
   "cell_type": "code",
   "execution_count": 98,
   "id": "cb0fbc81",
   "metadata": {},
   "outputs": [
    {
     "name": "stdout",
     "output_type": "stream",
     "text": [
      "File idterm.py not found.\n"
     ]
    }
   ],
   "source": [
    "def file_length(file_name):\n",
    "    try: \n",
    "        file = open(file_name)\n",
    "        contents = file.read()\n",
    "        file.close()\n",
    "        print(len(contents))\n",
    "    except FileNotFoundError :\n",
    "        print(\"File \"+ file_name +\" not found.\")\n",
    "        \n",
    "    \n",
    "file = \"idterm.py\"\n",
    "file_length(file)    "
   ]
  },
  {
   "cell_type": "code",
   "execution_count": 99,
   "id": "5c6d1207",
   "metadata": {},
   "outputs": [
    {
     "name": "stdout",
     "output_type": "stream",
     "text": [
      "123\n"
     ]
    }
   ],
   "source": [
    "file = \"Filelength.txt\"\n",
    "file_length(file)  "
   ]
  },
  {
   "cell_type": "markdown",
   "id": "9626c9bd",
   "metadata": {},
   "source": [
    "###### "
   ]
  },
  {
   "cell_type": "markdown",
   "id": "9d731e47",
   "metadata": {},
   "source": [
    "##### Question 3"
   ]
  },
  {
   "cell_type": "markdown",
   "id": "467ac1fb",
   "metadata": {},
   "source": [
    "###### "
   ]
  },
  {
   "cell_type": "markdown",
   "id": "f2a81ecb",
   "metadata": {},
   "source": [
    "##### Write a class named Marsupial and perform append and display for list."
   ]
  },
  {
   "cell_type": "code",
   "execution_count": 118,
   "id": "79e4b0e9",
   "metadata": {
    "scrolled": true
   },
   "outputs": [
    {
     "name": "stdout",
     "output_type": "stream",
     "text": [
      "['doll', 'firetruck', 'kitten']\n"
     ]
    }
   ],
   "source": [
    "class Marsupial:\n",
    "    def __init__(self):\n",
    "        self.mylist = []\n",
    "    def put_in_pouch(self,mystring):   \n",
    "        self.mylist.append(mystring)\n",
    "        return;\n",
    "    def pouch_contents(self):\n",
    "        print(self.mylist)\n",
    "        \n",
    "m = Marsupial()\n",
    "m.put_in_pouch('doll')\n",
    "m.put_in_pouch('firetruck')\n",
    "m.put_in_pouch('kitten')\n",
    "m.pouch_contents()"
   ]
  },
  {
   "cell_type": "markdown",
   "id": "c6641d6f",
   "metadata": {},
   "source": [
    "#####"
   ]
  },
  {
   "cell_type": "markdown",
   "id": "768a4075",
   "metadata": {},
   "source": [
    "##### write a class named Kangaroo as a subclass of Marsupial that inherits all the attributes of Marsupial"
   ]
  },
  {
   "cell_type": "markdown",
   "id": "f12f221d",
   "metadata": {},
   "source": [
    "###### "
   ]
  },
  {
   "cell_type": "markdown",
   "id": "64b5f9d5",
   "metadata": {},
   "source": [
    "##### a) extends the Marsupial __init__ constructor"
   ]
  },
  {
   "cell_type": "code",
   "execution_count": 124,
   "id": "00d1fffc",
   "metadata": {},
   "outputs": [
    {
     "name": "stdout",
     "output_type": "stream",
     "text": [
      "['doll', 'firetruck', 'kitten']\n"
     ]
    }
   ],
   "source": [
    "class Kangaroo(Marsupial):\n",
    "    def __init__(self,x,y):\n",
    "        self.x = x\n",
    "        self.y = y\n",
    "        Marsupial.__init__(self)\n",
    "    def jump(self,dx,dy):\n",
    "        self.x = self.x +dx\n",
    "        self.y = self.y+dy\n",
    "    def __str__ (self):\n",
    "        return 'I am a Kangaroo located at coordinates (' + str(self.x) +',' + str(self.y) +')'\n",
    "        \n",
    "k.put_in_pouch('doll')\n",
    "k.put_in_pouch('firetruck')\n",
    "k.put_in_pouch('kitten')\n",
    "k.pouch_contents()        "
   ]
  },
  {
   "cell_type": "markdown",
   "id": "5a910f36",
   "metadata": {},
   "source": [
    "###### "
   ]
  },
  {
   "cell_type": "markdown",
   "id": "fad84fa3",
   "metadata": {},
   "source": [
    "##### b) supports method jump that takes number values dx and dy as input and moves the kangaroo"
   ]
  },
  {
   "cell_type": "code",
   "execution_count": 125,
   "id": "1bb2dd88",
   "metadata": {},
   "outputs": [
    {
     "name": "stdout",
     "output_type": "stream",
     "text": [
      "I am a Kangaroo located at coordinates (3,0)\n"
     ]
    }
   ],
   "source": [
    "k.jump(1,0)\n",
    "k.jump(1,0)\n",
    "k.jump(1,0)\n",
    "print(k)"
   ]
  },
  {
   "cell_type": "markdown",
   "id": "def291b2",
   "metadata": {},
   "source": [
    "###### "
   ]
  },
  {
   "cell_type": "markdown",
   "id": "04fd0ae4",
   "metadata": {},
   "source": [
    "##### c) overloads the __str__ operator"
   ]
  },
  {
   "cell_type": "code",
   "execution_count": 123,
   "id": "f75feaae",
   "metadata": {},
   "outputs": [
    {
     "name": "stdout",
     "output_type": "stream",
     "text": [
      "I am a Kangaroo located at coordinates (0,0)\n"
     ]
    }
   ],
   "source": [
    "k = Kangaroo(0,0)\n",
    "print(k)"
   ]
  },
  {
   "cell_type": "markdown",
   "id": "43673b82",
   "metadata": {},
   "source": [
    "###### "
   ]
  },
  {
   "cell_type": "markdown",
   "id": "5351a36e",
   "metadata": {},
   "source": [
    "##### Question 4"
   ]
  },
  {
   "cell_type": "markdown",
   "id": "cc04425a",
   "metadata": {},
   "source": [
    "###### "
   ]
  },
  {
   "cell_type": "markdown",
   "id": "eb40e551",
   "metadata": {},
   "source": [
    "##### Write function collatz() that takes a positive integer x as input and prints the Collatz sequence starting at x"
   ]
  },
  {
   "cell_type": "code",
   "execution_count": 112,
   "id": "b05f1f57",
   "metadata": {},
   "outputs": [
    {
     "name": "stdout",
     "output_type": "stream",
     "text": [
      "10\n",
      "5\n",
      "16\n",
      "8\n",
      "4\n",
      "2\n",
      "1\n"
     ]
    }
   ],
   "source": [
    "def collatz(x):\n",
    "    counter = 0;\n",
    "    if x == 1:\n",
    "        print(x)\n",
    "        counter + 1;\n",
    "        return;\n",
    "    elif x % 2 == 0:\n",
    "        \n",
    "        print(x)\n",
    "        collatz(x//2)\n",
    "        counter + 1;\n",
    "        return;\n",
    "    else:\n",
    "        \n",
    "        print(x)\n",
    "        collatz(3 * x + 1)\n",
    "        counter + 1;\n",
    "        return;\n",
    "    \n",
    "  \n",
    "collatz(10)    "
   ]
  },
  {
   "cell_type": "code",
   "execution_count": 113,
   "id": "38fc6321",
   "metadata": {},
   "outputs": [
    {
     "name": "stdout",
     "output_type": "stream",
     "text": [
      "1\n"
     ]
    }
   ],
   "source": [
    "collatz(1)  "
   ]
  },
  {
   "cell_type": "markdown",
   "id": "29077604",
   "metadata": {},
   "source": [
    "###### "
   ]
  },
  {
   "cell_type": "markdown",
   "id": "4443d1f3",
   "metadata": {},
   "source": [
    "##### Question 5"
   ]
  },
  {
   "cell_type": "markdown",
   "id": "b651fd21",
   "metadata": {},
   "source": [
    "###### "
   ]
  },
  {
   "cell_type": "markdown",
   "id": "a578bed1",
   "metadata": {},
   "source": [
    "##### Write a recursive method binary() that takes a non-negative integer n and prints the binary representation of integer n."
   ]
  },
  {
   "cell_type": "code",
   "execution_count": 36,
   "id": "3ae89967",
   "metadata": {},
   "outputs": [
    {
     "name": "stdout",
     "output_type": "stream",
     "text": [
      "0\n",
      "\n",
      "1\n",
      "\n",
      "11\n",
      "\n",
      "1001"
     ]
    }
   ],
   "source": [
    "def binary(n):\n",
    "    if n < 2:\n",
    "        print(n,end=\"\")\n",
    "        return;\n",
    "\n",
    "    binary(n//2)\n",
    "    print(n%2,end=\"\")\n",
    "             \n",
    "binary(0)\n",
    "print(\"\\n\")\n",
    "binary(1)\n",
    "print(\"\\n\")\n",
    "binary(3)\n",
    "print(\"\\n\")\n",
    "binary(9)  "
   ]
  },
  {
   "cell_type": "markdown",
   "id": "2b54066b",
   "metadata": {},
   "source": [
    "###### "
   ]
  },
  {
   "cell_type": "markdown",
   "id": "1a0f0652",
   "metadata": {},
   "source": [
    "##### Question 6"
   ]
  },
  {
   "cell_type": "markdown",
   "id": "891c9f97",
   "metadata": {},
   "source": [
    "###### "
   ]
  },
  {
   "cell_type": "markdown",
   "id": "64a4ed75",
   "metadata": {},
   "source": [
    "##### Implement a class named HeadingParser that can be used to parse an HTML document, and retrieve and print all the headings in the document."
   ]
  },
  {
   "cell_type": "code",
   "execution_count": 142,
   "id": "fc7de980",
   "metadata": {},
   "outputs": [
    {
     "name": "stdout",
     "output_type": "stream",
     "text": [
      "W3C Mission\n",
      "\tPrinciples\n",
      " \n",
      "\n",
      "\n",
      "\n"
     ]
    }
   ],
   "source": [
    "from html.parser import HTMLParser  \n",
    "class HeadingParser(HTMLParser):\n",
    "    \n",
    "    def __init__(self):\n",
    "        HTMLParser.__init__(self)\n",
    "        self.datavalue = ''\n",
    "        \n",
    "    def handle_starttag(self, tag, attrs):\n",
    "        if tag == 'h1':\n",
    "            self.datavalue = 'h1'\n",
    "            \n",
    "    def handle_data(self, data):\n",
    "        if(self.datavalue == 'h1'):\n",
    "            print(data,end=\"\")\n",
    "            \n",
    "infile = open('w3c.html')\n",
    "content = infile.read()\n",
    "\n",
    "infile.close()\n",
    "objectHP = HeadingParser()   \n",
    "objectHP.feed(content)"
   ]
  },
  {
   "cell_type": "markdown",
   "id": "c444df6b",
   "metadata": {},
   "source": [
    "###### "
   ]
  },
  {
   "cell_type": "markdown",
   "id": "62cff637",
   "metadata": {},
   "source": [
    "##### Question 7"
   ]
  },
  {
   "cell_type": "markdown",
   "id": "2f279064",
   "metadata": {},
   "source": [
    "###### "
   ]
  },
  {
   "cell_type": "markdown",
   "id": "f166641b",
   "metadata": {},
   "source": [
    "##### Implement recursive function webdir() that takes as input: a URL (as a string) and non-negative integers depth and indent"
   ]
  },
  {
   "cell_type": "code",
   "execution_count": 149,
   "id": "13c0bf4a",
   "metadata": {},
   "outputs": [],
   "source": [
    "\n",
    "from urllib.request import urlopen\n",
    "from urllib.parse import urljoin\n",
    "from html.parser import HTMLParser\n",
    "class Collector(HTMLParser):\n",
    "    'collects hyperlink URLs into a list'\n",
    "\n",
    "    def __init__(self, url):\n",
    "        'initializes parser, the url, and a list'\n",
    "        HTMLParser.__init__(self)\n",
    "        self.url = url\n",
    "        self.links = []\n",
    "\n",
    "    \n",
    "    def handle_starttag(self, tag, attrs):\n",
    "        'collects hyperlink URLs in their absolute format'\n",
    "        if tag == 'a':\n",
    "            for attr in attrs:\n",
    "                if attr[0] == 'href':\n",
    "                    # construct absolute URL\n",
    "                    absolute = urljoin(self.url, attr[1])\n",
    "                    if absolute[:4] == 'http': # collect HTTP URLs\n",
    "                        self.links.append(absolute)\n",
    "                        \n",
    "    def getLinks(self):\n",
    "        'returns hyperlinks URLs in their absolute format'\n",
    "        print(self.links) \n",
    "\n",
    "    "
   ]
  },
  {
   "cell_type": "code",
   "execution_count": 151,
   "id": "cdf1bd83",
   "metadata": {},
   "outputs": [
    {
     "name": "stdout",
     "output_type": "stream",
     "text": [
      "['http://reed.cs.depaul.edu/lperkovic/test2.html', 'http://reed.cs.depaul.edu/lperkovic/test3.html']\n"
     ]
    }
   ],
   "source": [
    "def webdir(url):\n",
    "    resource = urlopen(url)\n",
    "    content = resource.read().decode()\n",
    "    collector = Collector(url)\n",
    "    collector.feed(content)\n",
    "    collector.getLinks()\n",
    "url = 'http://reed.cs.depaul.edu/lperkovic/test1.html'\n",
    "webdir(url)"
   ]
  },
  {
   "cell_type": "markdown",
   "id": "ce27b271",
   "metadata": {},
   "source": [
    "###### "
   ]
  },
  {
   "cell_type": "markdown",
   "id": "5d23de96",
   "metadata": {},
   "source": [
    "##### Question 8"
   ]
  },
  {
   "cell_type": "markdown",
   "id": "07acb904",
   "metadata": {},
   "source": [
    "###### "
   ]
  },
  {
   "cell_type": "markdown",
   "id": "ff2c1d9c",
   "metadata": {},
   "source": [
    "##### Write SQL queries on given database table"
   ]
  },
  {
   "cell_type": "code",
   "execution_count": 77,
   "id": "17ef7b4d",
   "metadata": {},
   "outputs": [
    {
     "data": {
      "text/plain": [
       "[(24.8,),\n",
       " (28.4,),\n",
       " (27.9,),\n",
       " (27.6,),\n",
       " (4.2,),\n",
       " (8.3,),\n",
       " (15.7,),\n",
       " (10.4,),\n",
       " (13.6,),\n",
       " (20.7,),\n",
       " (27.7,),\n",
       " (22.2,)]"
      ]
     },
     "execution_count": 77,
     "metadata": {},
     "output_type": "execute_result"
    }
   ],
   "source": [
    "con = sqlite3.connect('web.db')\n",
    "cur = con.cursor()\n",
    "cur.execute('SELECT Temperature FROM weather')\n",
    "cur.fetchall()"
   ]
  },
  {
   "cell_type": "markdown",
   "id": "906017f9",
   "metadata": {},
   "source": [
    "###### "
   ]
  },
  {
   "cell_type": "code",
   "execution_count": 79,
   "id": "f397ea13",
   "metadata": {},
   "outputs": [
    {
     "data": {
      "text/plain": [
       "[('Mumbai',), ('London',), ('Cairo',)]"
      ]
     },
     "execution_count": 79,
     "metadata": {},
     "output_type": "execute_result"
    }
   ],
   "source": [
    "cur.execute('SELECT DISTINCT City FROM weather')\n",
    "cur.fetchall()"
   ]
  },
  {
   "cell_type": "markdown",
   "id": "4b3979a2",
   "metadata": {},
   "source": [
    "###### "
   ]
  },
  {
   "cell_type": "code",
   "execution_count": 83,
   "id": "89d60fd6",
   "metadata": {},
   "outputs": [
    {
     "data": {
      "text/plain": [
       "[('Mumbai', 'India', 'Winter', 24.8, 5.9),\n",
       " ('Mumbai', 'India', 'Spring', 28.4, 16.2),\n",
       " ('Mumbai', 'India', 'Summer', 27.9, 1549.4),\n",
       " ('Mumbai', 'India', 'Fall', 27.6, 346.0)]"
      ]
     },
     "execution_count": 83,
     "metadata": {},
     "output_type": "execute_result"
    }
   ],
   "source": [
    "cur.execute('SELECT * FROM weather WHERE Country=\"India\"')\n",
    "cur.fetchall()"
   ]
  },
  {
   "cell_type": "markdown",
   "id": "6763652c",
   "metadata": {},
   "source": [
    "###### "
   ]
  },
  {
   "cell_type": "code",
   "execution_count": 84,
   "id": "8d4da17e",
   "metadata": {},
   "outputs": [
    {
     "data": {
      "text/plain": [
       "[('Mumbai', 'India', 'Fall', 27.6, 346.0),\n",
       " ('London', 'United Kingdom', 'Fall', 10.4, 218.5),\n",
       " ('Cairo', 'Egypt', 'Fall', 22.2, 4.5)]"
      ]
     },
     "execution_count": 84,
     "metadata": {},
     "output_type": "execute_result"
    }
   ],
   "source": [
    "cur.execute('SELECT * FROM weather WHERE Season=\"Fall\"')\n",
    "cur.fetchall()"
   ]
  },
  {
   "cell_type": "markdown",
   "id": "96978b88",
   "metadata": {},
   "source": [
    "###### "
   ]
  },
  {
   "cell_type": "code",
   "execution_count": 85,
   "id": "3869e777",
   "metadata": {},
   "outputs": [
    {
     "data": {
      "text/plain": [
       "[('Mumbai', 'India', 'Fall'),\n",
       " ('London', 'United Kingdom', 'Winter'),\n",
       " ('London', 'United Kingdom', 'Fall')]"
      ]
     },
     "execution_count": 85,
     "metadata": {},
     "output_type": "execute_result"
    }
   ],
   "source": [
    "cur.execute('SELECT City,Country,Season FROM weather WHERE Rainfall BETWEEN 200 AND 400 ')\n",
    "cur.fetchall()"
   ]
  },
  {
   "cell_type": "markdown",
   "id": "0e03633f",
   "metadata": {},
   "source": [
    "###### "
   ]
  },
  {
   "cell_type": "code",
   "execution_count": 116,
   "id": "ea15b37a",
   "metadata": {},
   "outputs": [
    {
     "data": {
      "text/plain": [
       "[('Cairo', 'Egypt'), ('Mumbai', 'India')]"
      ]
     },
     "execution_count": 116,
     "metadata": {},
     "output_type": "execute_result"
    }
   ],
   "source": [
    "cur.execute('SELECT City , Country from weather WHERE Temperature > 20 AND Season=\"Fall\" ORDER BY Temperature ASC;')\n",
    "cur.fetchall()"
   ]
  },
  {
   "cell_type": "markdown",
   "id": "bfb27111",
   "metadata": {},
   "source": [
    "###### "
   ]
  },
  {
   "cell_type": "code",
   "execution_count": 89,
   "id": "5f98df74",
   "metadata": {},
   "outputs": [
    {
     "data": {
      "text/plain": [
       "[(27.6,)]"
      ]
     },
     "execution_count": 89,
     "metadata": {},
     "output_type": "execute_result"
    }
   ],
   "source": [
    "cur.execute('SELECT SUM(Rainfall) FROM weather WHERE City=\"Cairo\"')\n",
    "cur.fetchall()"
   ]
  },
  {
   "cell_type": "markdown",
   "id": "9f870371",
   "metadata": {},
   "source": [
    "###### "
   ]
  },
  {
   "cell_type": "code",
   "execution_count": 90,
   "id": "14036296",
   "metadata": {},
   "outputs": [
    {
     "data": {
      "text/plain": [
       "[(27.6,), (752.8,), (1917.5,)]"
      ]
     },
     "execution_count": 90,
     "metadata": {},
     "output_type": "execute_result"
    }
   ],
   "source": [
    "cur.execute('SELECT SUM(Rainfall) FROM weather GROUP BY City')\n",
    "cur.fetchall()"
   ]
  },
  {
   "cell_type": "markdown",
   "id": "bf83b3da",
   "metadata": {},
   "source": [
    "###### "
   ]
  },
  {
   "cell_type": "markdown",
   "id": "a429d7c3",
   "metadata": {},
   "source": [
    "##### Question 9"
   ]
  },
  {
   "cell_type": "markdown",
   "id": "04587474",
   "metadata": {},
   "source": [
    "##### Write list comprehension expressions that use list words and generate different lists"
   ]
  },
  {
   "cell_type": "markdown",
   "id": "ca8f21a3",
   "metadata": {},
   "source": [
    "###### "
   ]
  },
  {
   "cell_type": "code",
   "execution_count": 91,
   "id": "a3adfe41",
   "metadata": {},
   "outputs": [
    {
     "data": {
      "text/plain": [
       "['THE', 'QUICK', 'BROWN', 'FOX', 'JUMPS', 'OVER', 'THE', 'LAZY', 'DOG']"
      ]
     },
     "execution_count": 91,
     "metadata": {},
     "output_type": "execute_result"
    }
   ],
   "source": [
    " words = ['The', 'quick', 'brown', 'fox', 'jumps', 'over','the', 'lazy', 'dog']\n",
    "[x.upper() for x in words]"
   ]
  },
  {
   "cell_type": "markdown",
   "id": "b3d5666b",
   "metadata": {},
   "source": [
    "###### "
   ]
  },
  {
   "cell_type": "code",
   "execution_count": 92,
   "id": "57570fcf",
   "metadata": {},
   "outputs": [
    {
     "data": {
      "text/plain": [
       "['the', 'quick', 'brown', 'fox', 'jumps', 'over', 'the', 'lazy', 'dog']"
      ]
     },
     "execution_count": 92,
     "metadata": {},
     "output_type": "execute_result"
    }
   ],
   "source": [
    "[x.lower() for x in words]"
   ]
  },
  {
   "cell_type": "markdown",
   "id": "311be790",
   "metadata": {},
   "source": [
    "###### "
   ]
  },
  {
   "cell_type": "code",
   "execution_count": 94,
   "id": "a1cf9645",
   "metadata": {},
   "outputs": [
    {
     "data": {
      "text/plain": [
       "[3, 5, 5, 3, 5, 4, 3, 4, 3]"
      ]
     },
     "execution_count": 94,
     "metadata": {},
     "output_type": "execute_result"
    }
   ],
   "source": [
    "[len(x) for x in words]"
   ]
  },
  {
   "cell_type": "markdown",
   "id": "350d3ae6",
   "metadata": {},
   "source": [
    "###### "
   ]
  },
  {
   "cell_type": "code",
   "execution_count": 95,
   "id": "f0bafa78",
   "metadata": {},
   "outputs": [
    {
     "data": {
      "text/plain": [
       "[['THE', 'the', 3],\n",
       " ['QUICK', 'quick', 5],\n",
       " ['BROWN', 'brown', 5],\n",
       " ['FOX', 'fox', 3],\n",
       " ['JUMPS', 'jumps', 5],\n",
       " ['OVER', 'over', 4],\n",
       " ['THE', 'the', 3],\n",
       " ['LAZY', 'lazy', 4],\n",
       " ['DOG', 'dog', 3]]"
      ]
     },
     "execution_count": 95,
     "metadata": {},
     "output_type": "execute_result"
    }
   ],
   "source": [
    "[[x.upper(),x.lower(),len(x)] for x in words]"
   ]
  },
  {
   "cell_type": "markdown",
   "id": "16626bfb",
   "metadata": {},
   "source": [
    "###### "
   ]
  },
  {
   "cell_type": "code",
   "execution_count": 117,
   "id": "9d20ae32",
   "metadata": {},
   "outputs": [
    {
     "data": {
      "text/plain": [
       "['quick', 'brown', 'jumps', 'over', 'lazy']"
      ]
     },
     "execution_count": 117,
     "metadata": {},
     "output_type": "execute_result"
    }
   ],
   "source": [
    "###### [x for x in words if len(x)>=4]"
   ]
  }
 ],
 "metadata": {
  "kernelspec": {
   "display_name": "Python 3 (ipykernel)",
   "language": "python",
   "name": "python3"
  },
  "language_info": {
   "codemirror_mode": {
    "name": "ipython",
    "version": 3
   },
   "file_extension": ".py",
   "mimetype": "text/x-python",
   "name": "python",
   "nbconvert_exporter": "python",
   "pygments_lexer": "ipython3",
   "version": "3.9.7"
  }
 },
 "nbformat": 4,
 "nbformat_minor": 5
}
